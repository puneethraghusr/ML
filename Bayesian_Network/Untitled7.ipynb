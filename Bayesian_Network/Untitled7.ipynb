{
 "cells": [
  {
   "cell_type": "code",
   "execution_count": 4,
   "metadata": {},
   "outputs": [
    {
     "name": "stdout",
     "output_type": "stream",
     "text": [
      "Requirement already satisfied: pgmpy in c:\\users\\puneeth raghu\\anaconda3\\lib\\site-packages (0.1.14)\n",
      "Requirement already satisfied: tqdm in c:\\users\\puneeth raghu\\anaconda3\\lib\\site-packages (from pgmpy) (4.50.2)\n",
      "Requirement already satisfied: scikit-learn in c:\\users\\puneeth raghu\\anaconda3\\lib\\site-packages (from pgmpy) (0.23.2)\n",
      "Requirement already satisfied: pyparsing in c:\\users\\puneeth raghu\\anaconda3\\lib\\site-packages (from pgmpy) (2.4.7)\n",
      "Requirement already satisfied: networkx in c:\\users\\puneeth raghu\\anaconda3\\lib\\site-packages (from pgmpy) (2.5)\n",
      "Requirement already satisfied: torch in c:\\users\\puneeth raghu\\anaconda3\\lib\\site-packages (from pgmpy) (1.8.1)\n",
      "Requirement already satisfied: numpy in c:\\users\\puneeth raghu\\anaconda3\\lib\\site-packages (from pgmpy) (1.19.2)\n",
      "Requirement already satisfied: statsmodels in c:\\users\\puneeth raghu\\anaconda3\\lib\\site-packages (from pgmpy) (0.12.0)\n",
      "Requirement already satisfied: joblib in c:\\users\\puneeth raghu\\anaconda3\\lib\\site-packages (from pgmpy) (0.17.0)\n",
      "Requirement already satisfied: pandas in c:\\users\\puneeth raghu\\anaconda3\\lib\\site-packages (from pgmpy) (1.1.3)\n",
      "Requirement already satisfied: scipy in c:\\users\\puneeth raghu\\anaconda3\\lib\\site-packages (from pgmpy) (1.5.2)\n",
      "Requirement already satisfied: threadpoolctl>=2.0.0 in c:\\users\\puneeth raghu\\anaconda3\\lib\\site-packages (from scikit-learn->pgmpy) (2.1.0)\n",
      "Requirement already satisfied: decorator>=4.3.0 in c:\\users\\puneeth raghu\\anaconda3\\lib\\site-packages (from networkx->pgmpy) (4.4.2)\n",
      "Requirement already satisfied: typing-extensions in c:\\users\\puneeth raghu\\anaconda3\\lib\\site-packages (from torch->pgmpy) (3.7.4.3)\n",
      "Requirement already satisfied: patsy>=0.5 in c:\\users\\puneeth raghu\\anaconda3\\lib\\site-packages (from statsmodels->pgmpy) (0.5.1)\n",
      "Requirement already satisfied: python-dateutil>=2.7.3 in c:\\users\\puneeth raghu\\anaconda3\\lib\\site-packages (from pandas->pgmpy) (2.8.1)\n",
      "Requirement already satisfied: pytz>=2017.2 in c:\\users\\puneeth raghu\\anaconda3\\lib\\site-packages (from pandas->pgmpy) (2020.1)\n",
      "Requirement already satisfied: six in c:\\users\\puneeth raghu\\anaconda3\\lib\\site-packages (from patsy>=0.5->statsmodels->pgmpy) (1.15.0)\n"
     ]
    }
   ],
   "source": [
    "!pip install pgmpy"
   ]
  },
  {
   "cell_type": "code",
   "execution_count": 5,
   "metadata": {},
   "outputs": [],
   "source": [
    "\n",
    "# Starting with defining the network structure\n",
    "from pgmpy.models import BayesianModel\n",
    "from pgmpy.factors.discrete import TabularCPD\n",
    "from pgmpy.inference import VariableElimination"
   ]
  },
  {
   "cell_type": "code",
   "execution_count": 7,
   "metadata": {},
   "outputs": [
    {
     "name": "stdout",
     "output_type": "stream",
     "text": [
      "Bayesian network nodes:\n",
      "\t ['Pollution', 'Cancer', 'Smoker', 'Xray', 'Dyspnoea']\n",
      "Bayesian network edges:\n",
      "\t [('Pollution', 'Cancer'), ('Cancer', 'Xray'), ('Cancer', 'Dyspnoea'), ('Smoker', 'Cancer')]\n"
     ]
    }
   ],
   "source": [
    "#Define a Structure with nodes and edges\n",
    "cancer_model = BayesianModel([('Pollution', 'Cancer'), \n",
    "                              ('Smoker', 'Cancer'),\n",
    "                              ('Cancer', 'Xray'),\n",
    "                              ('Cancer', 'Dyspnoea')])\n",
    "print('Bayesian network nodes:')\n",
    "print('\\t', cancer_model.nodes())\n",
    "print('Bayesian network edges:')\n",
    "print('\\t', cancer_model.edges())"
   ]
  },
  {
   "cell_type": "code",
   "execution_count": 8,
   "metadata": {},
   "outputs": [],
   "source": [
    "\n",
    "#Creation of Conditional Probability Table\n",
    "cpd_poll = TabularCPD(variable='Pollution', variable_card=2,\n",
    "                      values=[[0.9], [0.1]])\n",
    "cpd_smoke = TabularCPD(variable='Smoker', variable_card=2,\n",
    "                       values=[[0.3], [0.7]])\n",
    "cpd_cancer = TabularCPD(variable='Cancer', variable_card=2,\n",
    "                        values=[[0.03, 0.05, 0.001, 0.02],\n",
    "                                [0.97, 0.95, 0.999, 0.98]],\n",
    "                        evidence=['Smoker', 'Pollution'],\n",
    "                        evidence_card=[2, 2])\n",
    "cpd_xray = TabularCPD(variable='Xray', variable_card=2,\n",
    "                      values=[[0.9, 0.2], [0.1, 0.8]],\n",
    "                      evidence=['Cancer'], evidence_card=[2])\n",
    "cpd_dysp = TabularCPD(variable='Dyspnoea', variable_card=2,\n",
    "                      values=[[0.65, 0.3], [0.35, 0.7]],\n",
    "                      evidence=['Cancer'], evidence_card=[2])"
   ]
  },
  {
   "cell_type": "code",
   "execution_count": 9,
   "metadata": {},
   "outputs": [
    {
     "name": "stdout",
     "output_type": "stream",
     "text": [
      "Model generated bt adding conditional probability distribution(cpds)\n",
      "Checking for Correctness of model:True\n"
     ]
    }
   ],
   "source": [
    "\n",
    "# Associating the parameters with the model structure.\n",
    "cancer_model.add_cpds(cpd_poll, cpd_smoke, cpd_cancer, cpd_xray, cpd_dysp)\n",
    "print('Model generated bt adding conditional probability distribution(cpds)')\n",
    "\n",
    "# Checking if the cpds are valid for the model.\n",
    "print('Checking for Correctness of model:', end='')\n",
    "print(cancer_model.check_model())"
   ]
  },
  {
   "cell_type": "code",
   "execution_count": null,
   "metadata": {},
   "outputs": [],
   "source": []
  }
 ],
 "metadata": {
  "kernelspec": {
   "display_name": "Python 3",
   "language": "python",
   "name": "python3"
  },
  "language_info": {
   "codemirror_mode": {
    "name": "ipython",
    "version": 3
   },
   "file_extension": ".py",
   "mimetype": "text/x-python",
   "name": "python",
   "nbconvert_exporter": "python",
   "pygments_lexer": "ipython3",
   "version": "3.8.5"
  }
 },
 "nbformat": 4,
 "nbformat_minor": 4
}
