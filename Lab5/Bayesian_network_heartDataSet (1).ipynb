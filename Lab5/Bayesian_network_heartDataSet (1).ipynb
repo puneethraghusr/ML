{
  "nbformat": 4,
  "nbformat_minor": 0,
  "metadata": {
    "kernelspec": {
      "display_name": "Python 3",
      "language": "python",
      "name": "python3"
    },
    "language_info": {
      "codemirror_mode": {
        "name": "ipython",
        "version": 3
      },
      "file_extension": ".py",
      "mimetype": "text/x-python",
      "name": "python",
      "nbconvert_exporter": "python",
      "pygments_lexer": "ipython3",
      "version": "3.8.3"
    },
    "colab": {
      "name": "Bayesian_network_heartDataSet.ipynb",
      "provenance": []
    }
  },
  "cells": [
    {
      "cell_type": "code",
      "metadata": {
        "colab": {
          "base_uri": "https://localhost:8080/"
        },
        "id": "23F_6Ih_3Ljg",
        "outputId": "7a558a9e-1f73-44f4-eb77-30e2b0923f63"
      },
      "source": [
        "!pip install bayespy"
      ],
      "execution_count": 1,
      "outputs": [
        {
          "output_type": "stream",
          "text": [
            "Collecting bayespy\n",
            "\u001b[?25l  Downloading https://files.pythonhosted.org/packages/84/8b/0fd9136cb49faf11606a52abf5e2598586f264c18e91fa559af35790ad24/bayespy-0.5.22.tar.gz (490kB)\n",
            "\r\u001b[K     |▊                               | 10kB 15.2MB/s eta 0:00:01\r\u001b[K     |█▍                              | 20kB 21.1MB/s eta 0:00:01\r\u001b[K     |██                              | 30kB 25.1MB/s eta 0:00:01\r\u001b[K     |██▊                             | 40kB 28.9MB/s eta 0:00:01\r\u001b[K     |███▍                            | 51kB 31.8MB/s eta 0:00:01\r\u001b[K     |████                            | 61kB 23.1MB/s eta 0:00:01\r\u001b[K     |████▊                           | 71kB 24.5MB/s eta 0:00:01\r\u001b[K     |█████▍                          | 81kB 19.2MB/s eta 0:00:01\r\u001b[K     |██████                          | 92kB 17.8MB/s eta 0:00:01\r\u001b[K     |██████▊                         | 102kB 18.9MB/s eta 0:00:01\r\u001b[K     |███████▍                        | 112kB 18.9MB/s eta 0:00:01\r\u001b[K     |████████                        | 122kB 18.9MB/s eta 0:00:01\r\u001b[K     |████████▊                       | 133kB 18.9MB/s eta 0:00:01\r\u001b[K     |█████████▍                      | 143kB 18.9MB/s eta 0:00:01\r\u001b[K     |██████████                      | 153kB 18.9MB/s eta 0:00:01\r\u001b[K     |██████████▊                     | 163kB 18.9MB/s eta 0:00:01\r\u001b[K     |███████████▍                    | 174kB 18.9MB/s eta 0:00:01\r\u001b[K     |████████████                    | 184kB 18.9MB/s eta 0:00:01\r\u001b[K     |████████████▊                   | 194kB 18.9MB/s eta 0:00:01\r\u001b[K     |█████████████▍                  | 204kB 18.9MB/s eta 0:00:01\r\u001b[K     |██████████████                  | 215kB 18.9MB/s eta 0:00:01\r\u001b[K     |██████████████▊                 | 225kB 18.9MB/s eta 0:00:01\r\u001b[K     |███████████████▍                | 235kB 18.9MB/s eta 0:00:01\r\u001b[K     |████████████████                | 245kB 18.9MB/s eta 0:00:01\r\u001b[K     |████████████████▊               | 256kB 18.9MB/s eta 0:00:01\r\u001b[K     |█████████████████▍              | 266kB 18.9MB/s eta 0:00:01\r\u001b[K     |██████████████████              | 276kB 18.9MB/s eta 0:00:01\r\u001b[K     |██████████████████▊             | 286kB 18.9MB/s eta 0:00:01\r\u001b[K     |███████████████████▍            | 296kB 18.9MB/s eta 0:00:01\r\u001b[K     |████████████████████            | 307kB 18.9MB/s eta 0:00:01\r\u001b[K     |████████████████████▊           | 317kB 18.9MB/s eta 0:00:01\r\u001b[K     |█████████████████████▍          | 327kB 18.9MB/s eta 0:00:01\r\u001b[K     |██████████████████████          | 337kB 18.9MB/s eta 0:00:01\r\u001b[K     |██████████████████████▊         | 348kB 18.9MB/s eta 0:00:01\r\u001b[K     |███████████████████████▍        | 358kB 18.9MB/s eta 0:00:01\r\u001b[K     |████████████████████████        | 368kB 18.9MB/s eta 0:00:01\r\u001b[K     |████████████████████████▊       | 378kB 18.9MB/s eta 0:00:01\r\u001b[K     |█████████████████████████▍      | 389kB 18.9MB/s eta 0:00:01\r\u001b[K     |██████████████████████████      | 399kB 18.9MB/s eta 0:00:01\r\u001b[K     |██████████████████████████▊     | 409kB 18.9MB/s eta 0:00:01\r\u001b[K     |███████████████████████████▍    | 419kB 18.9MB/s eta 0:00:01\r\u001b[K     |████████████████████████████    | 430kB 18.9MB/s eta 0:00:01\r\u001b[K     |████████████████████████████▊   | 440kB 18.9MB/s eta 0:00:01\r\u001b[K     |█████████████████████████████▍  | 450kB 18.9MB/s eta 0:00:01\r\u001b[K     |██████████████████████████████  | 460kB 18.9MB/s eta 0:00:01\r\u001b[K     |██████████████████████████████▊ | 471kB 18.9MB/s eta 0:00:01\r\u001b[K     |███████████████████████████████▍| 481kB 18.9MB/s eta 0:00:01\r\u001b[K     |████████████████████████████████| 491kB 18.9MB/s \n",
            "\u001b[?25hRequirement already satisfied: numpy>=1.10.0 in /usr/local/lib/python3.7/dist-packages (from bayespy) (1.19.5)\n",
            "Requirement already satisfied: scipy>=0.13.0 in /usr/local/lib/python3.7/dist-packages (from bayespy) (1.4.1)\n",
            "Requirement already satisfied: h5py in /usr/local/lib/python3.7/dist-packages (from bayespy) (2.10.0)\n",
            "Requirement already satisfied: six in /usr/local/lib/python3.7/dist-packages (from h5py->bayespy) (1.15.0)\n",
            "Building wheels for collected packages: bayespy\n",
            "  Building wheel for bayespy (setup.py) ... \u001b[?25l\u001b[?25hdone\n",
            "  Created wheel for bayespy: filename=bayespy-0.5.22-cp37-none-any.whl size=379429 sha256=abfa01e5f44dcd25ce5bd43dc6b6047b16ef71d00bb8243c186528126b814508\n",
            "  Stored in directory: /root/.cache/pip/wheels/e8/32/77/9d0787cae2c5483aafada817a65e84cb086d52079ab9692be7\n",
            "Successfully built bayespy\n",
            "Installing collected packages: bayespy\n",
            "Successfully installed bayespy-0.5.22\n"
          ],
          "name": "stdout"
        }
      ]
    },
    {
      "cell_type": "code",
      "metadata": {
        "colab": {
          "base_uri": "https://localhost:8080/"
        },
        "id": "f0yT-KtY3Ljp",
        "outputId": "e90ec833-3204-4d9e-855a-f20abfb7ddd5"
      },
      "source": [
        "import bayespy as bp\n",
        "import numpy as np\n",
        "import csv\n",
        "!pip3 install colorama\n",
        "!pip3 install colorama\n",
        "from colorama import init\n",
        "from colorama import Fore, Back, Style\n",
        "init()\n",
        "\n",
        "# Define Parameter Enum values\n",
        "# Age\n",
        "ageEnum = {'SuperSeniorCitizen': 0, 'SeniorCitizen': 1,\n",
        "           'MiddleAged': 2, 'Youth': 3, 'Teen': 4}\n",
        "# Gender\n",
        "genderEnum = {'Male': 0, 'Female': 1}\n",
        "# FamilyHistory\n",
        "familyHistoryEnum = {'Yes': 0, 'No': 1}\n",
        "# Diet(Calorie Intake)\n",
        "dietEnum = {'High': 0, 'Medium': 1, 'Low': 2}\n",
        "# LifeStyle\n",
        "lifeStyleEnum = {'Athlete': 0, 'Active': 1, 'Moderate': 2, 'Sedetary': 3}\n",
        "# Cholesterol\n",
        "cholesterolEnum = {'High': 0, 'BorderLine': 1, 'Normal': 2}\n",
        "# HeartDisease\n",
        "heartDiseaseEnum = {'Yes': 0, 'No': 1}"
      ],
      "execution_count": 12,
      "outputs": [
        {
          "output_type": "stream",
          "text": [
            "Requirement already satisfied: colorama in /usr/local/lib/python3.7/dist-packages (0.4.4)\n",
            "Requirement already satisfied: colorama in /usr/local/lib/python3.7/dist-packages (0.4.4)\n"
          ],
          "name": "stdout"
        }
      ]
    },
    {
      "cell_type": "code",
      "metadata": {
        "id": "WYMHKdmr3Ljq"
      },
      "source": [
        "import pandas as pd"
      ],
      "execution_count": 4,
      "outputs": []
    },
    {
      "cell_type": "code",
      "metadata": {
        "id": "-6vWOLIN3Ljr"
      },
      "source": [
        "data = pd.read_csv(\"/content/heart_disease_data.csv\")\n"
      ],
      "execution_count": 5,
      "outputs": []
    },
    {
      "cell_type": "code",
      "metadata": {
        "id": "In2zTfJ13Ljr"
      },
      "source": [
        "data =np.array(data, dtype='int8')\n",
        "N = len(data)"
      ],
      "execution_count": 7,
      "outputs": []
    },
    {
      "cell_type": "code",
      "metadata": {
        "id": "-vYdxMdk3Ljr"
      },
      "source": [
        "# Input data column assignment\n",
        "p_age = bp.nodes.Dirichlet(1.0*np.ones(5))\n",
        "age = bp.nodes.Categorical(p_age, plates=(N,))\n",
        "age.observe(data[:, 0])\n",
        "\n",
        "p_gender = bp.nodes.Dirichlet(1.0*np.ones(2))\n",
        "gender = bp.nodes.Categorical(p_gender, plates=(N,))\n",
        "gender.observe(data[:, 1])\n",
        "\n",
        "p_familyhistory = bp.nodes.Dirichlet(1.0*np.ones(2))\n",
        "familyhistory = bp.nodes.Categorical(p_familyhistory, plates=(N,))\n",
        "familyhistory.observe(data[:, 2])\n",
        "\n",
        "p_diet = bp.nodes.Dirichlet(1.0*np.ones(3))\n",
        "diet = bp.nodes.Categorical(p_diet, plates=(N,))\n",
        "diet.observe(data[:, 3])\n",
        "\n",
        "p_lifestyle = bp.nodes.Dirichlet(1.0*np.ones(4))\n",
        "lifestyle = bp.nodes.Categorical(p_lifestyle, plates=(N,))\n",
        "lifestyle.observe(data[:, 4])\n",
        "\n",
        "p_cholesterol = bp.nodes.Dirichlet(1.0*np.ones(3))\n",
        "cholesterol = bp.nodes.Categorical(p_cholesterol, plates=(N,))\n",
        "cholesterol.observe(data[:, 5])"
      ],
      "execution_count": 8,
      "outputs": []
    },
    {
      "cell_type": "code",
      "metadata": {
        "id": "TGFS_7bG3Ljs"
      },
      "source": [
        "# Prepare nodes and establish edges\n",
        "# np.ones(2) -> HeartDisease has 2 options Yes/No\n",
        "# plates(5, 2, 2, 3, 4, 3) -> corresponds to options present for domain values\n",
        "p_heartdisease = bp.nodes.Dirichlet(np.ones(2), plates=(5, 2, 2, 3, 4, 3))\n",
        "heartdisease = bp.nodes.MultiMixture(\n",
        "    [age, gender, familyhistory, diet, lifestyle, cholesterol], bp.nodes.Categorical, p_heartdisease)\n",
        "heartdisease.observe(data[:, 6])\n",
        "p_heartdisease.update()\n"
      ],
      "execution_count": 9,
      "outputs": []
    },
    {
      "cell_type": "code",
      "metadata": {
        "colab": {
          "base_uri": "https://localhost:8080/"
        },
        "id": "wevr9BOe3Ljs",
        "outputId": "a6565205-756b-4add-82b8-9c7346606b22"
      },
      "source": [
        "#print(\"Sample Probability\")\n",
        "#print(\"Probability(HeartDisease|Age=SuperSeniorCitizen, Gender=Female, FamilyHistory=Yes, DietIntake=Medium, LifeStyle=Sedetary, Cholesterol=High)\") \n",
        "#print(bp.nodes.MultiMixture([ageEnum['SuperSeniorCitizen'], genderEnum['Female'], familyHistoryEnum['Yes'], dietEnum['Medium'], lifeStyleEnum['Sedetary'], cholesterolEnum['High']], bp.nodes.Categorical, p_heartdisease).get_moments()[0] [heartDiseaseEnum['Yes']])\n",
        "\n",
        "# Interactive Test\n",
        "m = 0\n",
        "while m == 0:\n",
        "    print(\"\\n\")\n",
        "    res = bp.nodes.MultiMixture([int(input('Enter Age: ' + str(ageEnum))), int(input('Enter Gender: ' + str(genderEnum))), int(input('Enter FamilyHistory: ' + str(familyHistoryEnum))), int(input('Enter dietEnum: ' + str(\n",
        "        dietEnum))), int(input('Enter LifeStyle: ' + str(lifeStyleEnum))), int(input('Enter Cholesterol: ' + str(cholesterolEnum)))], bp.nodes.Categorical, p_heartdisease).get_moments()[0][heartDiseaseEnum['Yes']]\n",
        "    print(\"Probability(HeartDisease) = \" + str(res))\n",
        "\n",
        "# print(Style.RESET_ALL)\n",
        "    m = int(input(\"Enter for Continue:0, Exit :1 \"))"
      ],
      "execution_count": 11,
      "outputs": [
        {
          "output_type": "stream",
          "text": [
            "\n",
            "\n",
            "Enter Age: {'SuperSeniorCitizen': 0, 'SeniorCitizen': 1, 'MiddleAged': 2, 'Youth': 3, 'Teen': 4}4\n",
            "Enter Gender: {'Male': 0, 'Female': 1}0\n",
            "Enter FamilyHistory: {'Yes': 0, 'No': 1}0\n",
            "Enter dietEnum: {'High': 0, 'Medium': 1, 'Low': 2}1\n",
            "Enter LifeStyle: {'Athlete': 0, 'Active': 1, 'Moderate': 2, 'Sedetary': 3}1\n",
            "Enter Cholesterol: {'High': 0, 'BorderLine': 1, 'Normal': 2}2\n",
            "Probability(HeartDisease) = 0.5\n",
            "Enter for Continue:0, Exit :1 0\n",
            "\n",
            "\n",
            "Enter Age: {'SuperSeniorCitizen': 0, 'SeniorCitizen': 1, 'MiddleAged': 2, 'Youth': 3, 'Teen': 4}1\n",
            "Enter Gender: {'Male': 0, 'Female': 1}0\n",
            "Enter FamilyHistory: {'Yes': 0, 'No': 1}1\n",
            "Enter dietEnum: {'High': 0, 'Medium': 1, 'Low': 2}0\n",
            "Enter LifeStyle: {'Athlete': 0, 'Active': 1, 'Moderate': 2, 'Sedetary': 3}2\n",
            "Enter Cholesterol: {'High': 0, 'BorderLine': 1, 'Normal': 2}0\n",
            "Probability(HeartDisease) = 0.5\n",
            "Enter for Continue:0, Exit :1 1\n"
          ],
          "name": "stdout"
        }
      ]
    }
  ]
}